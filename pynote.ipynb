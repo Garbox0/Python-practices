{
 "cells": [
  {
   "cell_type": "markdown",
   "metadata": {},
   "source": [
    "**SQL Server Integration"
   ]
  },
  {
   "cell_type": "code",
   "execution_count": null,
   "metadata": {},
   "outputs": [],
   "source": [
    "# Imports de librerias\n",
    "import pyodbc\n",
    "import openai\n",
    "import os\n",
    "from PyPDF2 import PdfReader\n",
    "from langchain.text_splitter import CharacterTextSplitter\n",
    "from langchain_openai import ChatOpenAI\n",
    "from langchain.chains import RetrievalQA\n",
    "from langchain_community.vectorstores import FAISS\n",
    "from langchain_openai import OpenAIEmbeddings\n",
    "import json"
   ]
  },
  {
   "cell_type": "code",
   "execution_count": null,
   "metadata": {},
   "outputs": [],
   "source": [
    "# API KEY de OPNEAI\n",
    "os.environ[\"OPENAI_API_KEY\"] = \"xxxxxx\""
   ]
  },
  {
   "cell_type": "code",
   "execution_count": null,
   "metadata": {},
   "outputs": [],
   "source": [
    "# Conexión con base de datos\n",
    "connectionSQLSever = pyodbc.connect(\"DRIVER={SQL Server};SERVER=xxxxxx;DATABASE=xxxxxx;Trusted_Connection=yes;\")"
   ]
  },
  {
   "cell_type": "code",
   "execution_count": null,
   "metadata": {},
   "outputs": [],
   "source": [
    "# Variable de conexión y variable para ejecutar scripts SQL\n",
    "connection = connectionSQLSever\n",
    "cursor = connection.cursor()"
   ]
  },
  {
   "cell_type": "code",
   "execution_count": null,
   "metadata": {},
   "outputs": [],
   "source": [
    "# Variable que aloja la ruta del documento pdf\n",
    "rutaPdfs = [\"xxxxxx\"]"
   ]
  },
  {
   "cell_type": "code",
   "execution_count": null,
   "metadata": {},
   "outputs": [],
   "source": [
    "def lecturaPdfs(rutaPdfs):\n",
    "    texts = []\n",
    "    texto = \"\"\n",
    "    all_chunks = []\n",
    "    \n",
    "    for pdf in rutaPdfs:\n",
    "        pdf_reader = PdfReader(pdf)\n",
    "        pdf_text = ''\n",
    "        for page in pdf_reader.pages:\n",
    "            pdf_text += page.extract_text()\n",
    "        texts.append(pdf_text)\n",
    "        texto += pdf_text   \n",
    "         \n",
    "        text_splitter = CharacterTextSplitter(\n",
    "            separator=\"\\n\",\n",
    "            chunk_size=1000,\n",
    "            chunk_overlap=200,\n",
    "            length_function=len\n",
    ")\n",
    "    chunks = text_splitter.split_text(pdf_text)\n",
    "    all_chunks.extend(chunks)\n",
    "        \n",
    "    return texto, all_chunks"
   ]
  },
  {
   "cell_type": "code",
   "execution_count": null,
   "metadata": {},
   "outputs": [],
   "source": [
    "texto, all_chunks = lecturaPdfs(rutaPdfs)"
   ]
  },
  {
   "cell_type": "code",
   "execution_count": null,
   "metadata": {},
   "outputs": [],
   "source": [
    "openai.api_key= \"xxxxxxx\"\n",
    "\n",
    "response = openai.embeddings.create(model=\"text-embedding-ada-002\", input=all_chunks)\n"
   ]
  },
  {
   "cell_type": "code",
   "execution_count": null,
   "metadata": {},
   "outputs": [],
   "source": [
    "response.data[0].embedding"
   ]
  },
  {
   "cell_type": "code",
   "execution_count": null,
   "metadata": {},
   "outputs": [],
   "source": [
    "embedding_data = response.data[0].embedding\n",
    "embedding_json = json.dumps(embedding_data)\n",
    "# Encode json a UTF-8\n",
    "embedding_bytes = embedding_json.encode('utf-8')"
   ]
  },
  {
   "cell_type": "code",
   "execution_count": null,
   "metadata": {},
   "outputs": [],
   "source": [
    "queryInsertAllChunks = \"\"\"\n",
    "    INSERT INTO Vector (vector) VALUES (?);\n",
    "\"\"\"\n",
    "queryInsertTexto = \"\"\"\n",
    "    INSERT INTO Vector (vector) VALUES (?);\n",
    "\"\"\"\n",
    "cursor.execute(queryInsertTexto, ((texto),))\n",
    "\n",
    "for chunk in all_chunks:\n",
    "    cursor.execute(queryInsertAllChunks, (chunk,))"
   ]
  },
  {
   "cell_type": "code",
   "execution_count": null,
   "metadata": {},
   "outputs": [],
   "source": [
    "connection.commit()"
   ]
  },
  {
   "cell_type": "code",
   "execution_count": null,
   "metadata": {},
   "outputs": [],
   "source": [
    "\n",
    "llm = ChatOpenAI(\n",
    "    model_name=\"gpt-3.5-turbo-1106\",\n",
    "    temperature=0.5, streaming=True\n",
    ")\n",
    "\n",
    "\n",
    "qa = RetrievalQA.from_chain_type(\n",
    "        llm=llm,\n",
    "        chain_type=\"stuff\",\n",
    "        retriever=retriever,\n",
    "        verbose=True,\n",
    "        return_source_documents=True,\n",
    "\n",
    ")\n"
   ]
  },
  {
   "cell_type": "code",
   "execution_count": null,
   "metadata": {},
   "outputs": [],
   "source": [
    "embeddings = OpenAIEmbeddings()\n",
    "docsearch = FAISS.from_texts(texts=chunk, embedding=embeddings)\n",
    "retriever = docsearch.as_retriever()"
   ]
  },
  {
   "cell_type": "code",
   "execution_count": null,
   "metadata": {},
   "outputs": [],
   "source": [
    "chunk"
   ]
  },
  {
   "cell_type": "code",
   "execution_count": null,
   "metadata": {},
   "outputs": [],
   "source": [
    "result = qa({\"query\":\"xxxxxx\"})"
   ]
  }
 ],
 "metadata": {
  "kernelspec": {
   "display_name": "Garbox0",
   "language": "python",
   "name": "python3"
  },
  "language_info": {
   "codemirror_mode": {
    "name": "ipython",
    "version": 3
   },
   "file_extension": ".py",
   "mimetype": "text/x-python",
   "name": "python",
   "nbconvert_exporter": "python",
   "pygments_lexer": "ipython3",
   "version": "3.10.13"
  }
 },
 "nbformat": 4,
 "nbformat_minor": 2
}
